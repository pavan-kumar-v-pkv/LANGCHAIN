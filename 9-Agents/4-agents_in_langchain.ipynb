{
  "nbformat": 4,
  "nbformat_minor": 0,
  "metadata": {
    "colab": {
      "provenance": []
    },
    "kernelspec": {
      "name": "python3",
      "display_name": "Python 3"
    },
    "language_info": {
      "name": "python"
    }
  },
  "cells": [
    {
      "cell_type": "code",
      "execution_count": 21,
      "metadata": {
        "id": "GgLMaJ7jBTPW"
      },
      "outputs": [],
      "source": [
        "from google.colab import userdata\n",
        "import os\n",
        "\n",
        "os.environ['OPENAI_API_KEY'] =  userdata.get('OPENAI_API_KEY')"
      ]
    },
    {
      "cell_type": "code",
      "source": [
        "!pip install -q langchain-openai langchain-community langchain-core requests duckduckgo-search"
      ],
      "metadata": {
        "collapsed": true,
        "id": "27epicppBuIy"
      },
      "execution_count": 22,
      "outputs": []
    },
    {
      "cell_type": "code",
      "source": [
        "!pip install -U ddgs"
      ],
      "metadata": {
        "collapsed": true,
        "colab": {
          "base_uri": "https://localhost:8080/"
        },
        "id": "rH9ydAkkC5ce",
        "outputId": "54844641-0dca-4227-afd0-e933e4fdddbc"
      },
      "execution_count": 23,
      "outputs": [
        {
          "output_type": "stream",
          "name": "stdout",
          "text": [
            "Requirement already satisfied: ddgs in /usr/local/lib/python3.12/dist-packages (9.6.0)\n",
            "Requirement already satisfied: click>=8.1.8 in /usr/local/lib/python3.12/dist-packages (from ddgs) (8.2.1)\n",
            "Requirement already satisfied: primp>=0.15.0 in /usr/local/lib/python3.12/dist-packages (from ddgs) (0.15.0)\n",
            "Requirement already satisfied: lxml>=6.0.0 in /usr/local/lib/python3.12/dist-packages (from ddgs) (6.0.2)\n",
            "Requirement already satisfied: httpx>=0.28.1 in /usr/local/lib/python3.12/dist-packages (from httpx[brotli,http2,socks]>=0.28.1->ddgs) (0.28.1)\n",
            "Requirement already satisfied: anyio in /usr/local/lib/python3.12/dist-packages (from httpx>=0.28.1->httpx[brotli,http2,socks]>=0.28.1->ddgs) (4.10.0)\n",
            "Requirement already satisfied: certifi in /usr/local/lib/python3.12/dist-packages (from httpx>=0.28.1->httpx[brotli,http2,socks]>=0.28.1->ddgs) (2025.8.3)\n",
            "Requirement already satisfied: httpcore==1.* in /usr/local/lib/python3.12/dist-packages (from httpx>=0.28.1->httpx[brotli,http2,socks]>=0.28.1->ddgs) (1.0.9)\n",
            "Requirement already satisfied: idna in /usr/local/lib/python3.12/dist-packages (from httpx>=0.28.1->httpx[brotli,http2,socks]>=0.28.1->ddgs) (3.10)\n",
            "Requirement already satisfied: h11>=0.16 in /usr/local/lib/python3.12/dist-packages (from httpcore==1.*->httpx>=0.28.1->httpx[brotli,http2,socks]>=0.28.1->ddgs) (0.16.0)\n",
            "Requirement already satisfied: brotli in /usr/local/lib/python3.12/dist-packages (from httpx[brotli,http2,socks]>=0.28.1->ddgs) (1.1.0)\n",
            "Requirement already satisfied: h2<5,>=3 in /usr/local/lib/python3.12/dist-packages (from httpx[brotli,http2,socks]>=0.28.1->ddgs) (4.3.0)\n",
            "Requirement already satisfied: socksio==1.* in /usr/local/lib/python3.12/dist-packages (from httpx[brotli,http2,socks]>=0.28.1->ddgs) (1.0.0)\n",
            "Requirement already satisfied: hyperframe<7,>=6.1 in /usr/local/lib/python3.12/dist-packages (from h2<5,>=3->httpx[brotli,http2,socks]>=0.28.1->ddgs) (6.1.0)\n",
            "Requirement already satisfied: hpack<5,>=4.1 in /usr/local/lib/python3.12/dist-packages (from h2<5,>=3->httpx[brotli,http2,socks]>=0.28.1->ddgs) (4.1.0)\n",
            "Requirement already satisfied: sniffio>=1.1 in /usr/local/lib/python3.12/dist-packages (from anyio->httpx>=0.28.1->httpx[brotli,http2,socks]>=0.28.1->ddgs) (1.3.1)\n",
            "Requirement already satisfied: typing_extensions>=4.5 in /usr/local/lib/python3.12/dist-packages (from anyio->httpx>=0.28.1->httpx[brotli,http2,socks]>=0.28.1->ddgs) (4.15.0)\n"
          ]
        }
      ]
    },
    {
      "cell_type": "code",
      "source": [
        "from langchain_openai import ChatOpenAI\n",
        "from langchain_core.tools import tool\n",
        "import requests"
      ],
      "metadata": {
        "id": "kBpaMPwwCKaM"
      },
      "execution_count": 24,
      "outputs": []
    },
    {
      "cell_type": "code",
      "source": [
        "from langchain_community.tools import DuckDuckGoSearchRun\n",
        "\n",
        "search_tool = DuckDuckGoSearchRun()\n",
        "results = search_tool.invoke('top news in India today')"
      ],
      "metadata": {
        "id": "oLWaIZsGCo_K"
      },
      "execution_count": 25,
      "outputs": []
    },
    {
      "cell_type": "code",
      "source": [
        "results"
      ],
      "metadata": {
        "colab": {
          "base_uri": "https://localhost:8080/",
          "height": 143
        },
        "id": "LJ507cqnC2H2",
        "outputId": "dc90bf87-88d8-4f63-ff67-56b3245b59ee"
      },
      "execution_count": 26,
      "outputs": [
        {
          "output_type": "execute_result",
          "data": {
            "text/plain": [
              "\"4 days ago · Get the latest updates and breaking news from India , including politics, elections, government, business, technology, and Bollywood. Check today ' s top 10 news stories, headline news , breaking news , latest news , politics news, sports news, entertainment news and business news on Times of India Read full articles, watch videos, browse thousands of titles and more on the ' India ' topic with Google News. News Headlines Today : Hindustan Times offers the most reliable news in politics, sports, entertainment and business, featuring National and International news Breaking News on Hindustan Times Stay Up-to-date with Top news in India , current headlines, photos & videos online, live coverage on entertainment, business, politics, sports, technology and more at indianexpress.com. How good is India vs India? Overall, India enjoys a favourable head-to-head record against its cross-border rival in the shortest format of the game, having won 11 out of 15 encounters, losing three, with one contest ending in a tie ( India won after a bowl-out). Are 'deadly crushes' common in India? Deadly crushes are not uncommon in India, and there have been several similarly tragic incidents this year alone, including at the famous Kumbh Mela Hindu festival and outside a cricket stadium. Tens of thousands had gathered at a campaign event for actor-turned-politician Vijay in India's southern state of Tamil Nadu. What happened at a political rally in southern India? Seshadri Sukumar/Zuma Press Wire, via Reuters A crowd stampede killed dozens and injured more than 40 others during a political rally on Saturday in southern India, when thousands of people rushed toward the stage where a popular actor and politician was speaking, officials said. Who is India's biggest threat at the 2025 Asia Cup? Abhishek Sharma has been India's biggest threat at the ongoing 2025 Asia Cup. The opener is the highest run-scorer with 309 runs in six innings and a strike-rate of 204.64. He has also taken on bowlers right from the get-go, slamming 31 fours and 19 sixes, the highest in the tournament. He also has three half-centuries, with a top score of 75*. India News Today : Read latest and breaking news headlines from India . Top India News , Current headlines, videos, photos and live india news updates at India Today . Check out the latest news from India and around the world. Latest India news on Bollywood, Politics, Business, Cricket, Technology and Travel. Check today ' s top 10 news stories, headline news , breaking news , latest news , politics news, sports news, entertainment news and business news on Times of India Read full articles, watch videos, browse thousands of titles and more on the ' India ' topic with Google News. News Headlines Today : Hindustan Times offers the most reliable news in politics, sports, entertainment and business, featuring National and International news Breaking News on Hindustan Times\""
            ],
            "application/vnd.google.colaboratory.intrinsic+json": {
              "type": "string"
            }
          },
          "metadata": {},
          "execution_count": 26
        }
      ]
    },
    {
      "cell_type": "code",
      "source": [
        "@tool\n",
        "def get_weather_data(city: str) -> str:\n",
        "  '''\n",
        "  This function fecthes the current weather data for a given city\n",
        "  '''\n",
        "  url = f'http://api.weatherstack.com/current?access_key=5796f58a8b32915e808b22be509220ab&query={city}'\n",
        "  response = requests.get(url)\n",
        "\n",
        "  return response.json()"
      ],
      "metadata": {
        "id": "Jpd1xa6yLzNH"
      },
      "execution_count": 27,
      "outputs": []
    },
    {
      "cell_type": "code",
      "source": [
        "llm = ChatOpenAI()"
      ],
      "metadata": {
        "id": "FiKlE46AC_Qn"
      },
      "execution_count": 28,
      "outputs": []
    },
    {
      "cell_type": "code",
      "source": [
        "llm.invoke('hi')"
      ],
      "metadata": {
        "colab": {
          "base_uri": "https://localhost:8080/"
        },
        "id": "P6OJo5A8DFa0",
        "outputId": "42e9170b-3e59-48cc-dedd-a4cf653006bb"
      },
      "execution_count": 29,
      "outputs": [
        {
          "output_type": "execute_result",
          "data": {
            "text/plain": [
              "AIMessage(content='Hello, how can I assist you today?', additional_kwargs={'refusal': None}, response_metadata={'token_usage': {'completion_tokens': 9, 'prompt_tokens': 8, 'total_tokens': 17, 'completion_tokens_details': {'accepted_prediction_tokens': 0, 'audio_tokens': 0, 'reasoning_tokens': 0, 'rejected_prediction_tokens': 0}, 'prompt_tokens_details': {'audio_tokens': 0, 'cached_tokens': 0}}, 'model_name': 'gpt-3.5-turbo-0125', 'system_fingerprint': None, 'id': 'chatcmpl-CKooJ6vtlOAJRC5j9KqadVoMIANxo', 'service_tier': 'default', 'finish_reason': 'stop', 'logprobs': None}, id='run--d67c1bb2-a49f-43aa-8365-4c2241f185f4-0', usage_metadata={'input_tokens': 8, 'output_tokens': 9, 'total_tokens': 17, 'input_token_details': {'audio': 0, 'cache_read': 0}, 'output_token_details': {'audio': 0, 'reasoning': 0}})"
            ]
          },
          "metadata": {},
          "execution_count": 29
        }
      ]
    },
    {
      "cell_type": "code",
      "source": [
        "from langchain.agents import create_react_agent, AgentExecutor\n",
        "from langchain import hub"
      ],
      "metadata": {
        "id": "WBuTijB_DG27"
      },
      "execution_count": 30,
      "outputs": []
    },
    {
      "cell_type": "code",
      "source": [
        "# Step 2: Pull the Reacg prompt from the LangChain Hub\n",
        "prompt = hub.pull(\"hwchase17/react\") # pulls the standard ReAct (Reasoning + Action) agent prompt"
      ],
      "metadata": {
        "id": "p0ez6LlODUhm"
      },
      "execution_count": 31,
      "outputs": []
    },
    {
      "cell_type": "code",
      "source": [
        "# Step 3: Create the ReAct agent manually with the pulled prompt\n",
        "agent = create_react_agent(\n",
        "    llm=llm,\n",
        "    tools=[search_tool, get_weather_data],\n",
        "    prompt=prompt\n",
        ")"
      ],
      "metadata": {
        "id": "ktiLhZigDhhp"
      },
      "execution_count": 32,
      "outputs": []
    },
    {
      "cell_type": "code",
      "source": [
        "# Step 4: Wrap it with AgentExecutor\n",
        "agent_executor = AgentExecutor(\n",
        "    agent=agent,\n",
        "    tools=[search_tool, get_weather_data],\n",
        "    verbose=True\n",
        ")"
      ],
      "metadata": {
        "id": "Ptzj8tysD7eN"
      },
      "execution_count": 33,
      "outputs": []
    },
    {
      "cell_type": "code",
      "source": [
        "# Step 5: Invoke\n",
        "response = agent_executor.invoke({\"input\": \"Find the capital of Karnataka, then find it's current weather condition\"})\n",
        "print(response)"
      ],
      "metadata": {
        "colab": {
          "base_uri": "https://localhost:8080/"
        },
        "id": "gAlpwCCOEYY0",
        "outputId": "1f43991a-119c-435d-8e63-4359c4571812"
      },
      "execution_count": 34,
      "outputs": [
        {
          "output_type": "stream",
          "name": "stdout",
          "text": [
            "\n",
            "\n",
            "\u001b[1m> Entering new AgentExecutor chain...\u001b[0m\n",
            "\u001b[32;1m\u001b[1;3mFirst, I need to find the capital of Karnataka using a search query. Once I have that information, I can use the get_weather_data function to find the current weather condition of that city.\n",
            "Action: duckduckgo_search\n",
            "Action Input: \"Capital of Karnataka\"\u001b[0m\u001b[36;1m\u001b[1;3mFollowing India's independence in 1947, Bengaluru became the capital of Mysore State, and remained the capital when the state was enlarged and unified in 1956 and subsequently … 4 days ago · The capital is Bengaluru (Bangalore), near the southeastern border. Before the independence of India in 1947, Mysore was a prosperous and progressive but landlocked … Bengaluru, also known as Bangalore, is the capital of Karnataka. It is located in the southeastern part of Karnataka state, on the Deccan Plateau. Bengaluru is famous as a major IT and … May 22, 2024 · Bangalore, officially known as Bengaluru, is a bustling city in the southern part of India and the capital of Karnataka. Bangalore, officially known as Bengaluru, is the capital and largest city of Karnataka, a state in southern India. The city’s history dates back to 890 CE, with modern Bangalore founded in …\u001b[0m\u001b[32;1m\u001b[1;3mNow that I know the capital of Karnataka is Bangalore, I can use the get_weather_data function to find its current weather condition.\n",
            "Action: get_weather_data\n",
            "Action Input: \"Bangalore\"\u001b[0m\u001b[33;1m\u001b[1;3m{'request': {'type': 'City', 'query': 'Bangalore, India', 'language': 'en', 'unit': 'm'}, 'location': {'name': 'Bangalore', 'country': 'India', 'region': 'Karnataka', 'lat': '12.983', 'lon': '77.583', 'timezone_id': 'Asia/Kolkata', 'localtime': '2025-09-28 22:28', 'localtime_epoch': 1759098480, 'utc_offset': '5.50'}, 'current': {'observation_time': '04:58 PM', 'temperature': 22, 'weather_code': 116, 'weather_icons': ['https://cdn.worldweatheronline.com/images/wsymbols01_png_64/wsymbol_0004_black_low_cloud.png'], 'weather_descriptions': ['Partly cloudy'], 'astro': {'sunrise': '06:09 AM', 'sunset': '06:11 PM', 'moonrise': '11:16 AM', 'moonset': '10:41 PM', 'moon_phase': 'Waxing Crescent', 'moon_illumination': 31}, 'air_quality': {'co': '775.15', 'no2': '26.085', 'o3': '54', 'so2': '8.325', 'pm2_5': '11.655', 'pm10': '13.135', 'us-epa-index': '1', 'gb-defra-index': '1'}, 'wind_speed': 18, 'wind_degree': 249, 'wind_dir': 'WSW', 'pressure': 1015, 'precip': 0, 'humidity': 88, 'cloudcover': 75, 'feelslike': 25, 'uv_index': 0, 'visibility': 6, 'is_day': 'no'}}\u001b[0m\u001b[32;1m\u001b[1;3mI now know that the current weather condition in Bangalore, the capital of Karnataka, is partly cloudy with a temperature of 22°C, humidity at 88%, and a wind speed of 18 km/h.\n",
            "Final Answer: The capital of Karnataka is Bangalore, and its current weather condition is partly cloudy with a temperature of 22°C.\u001b[0m\n",
            "\n",
            "\u001b[1m> Finished chain.\u001b[0m\n",
            "{'input': \"Find the capital of Karnataka, then find it's current weather condition\", 'output': 'The capital of Karnataka is Bangalore, and its current weather condition is partly cloudy with a temperature of 22°C.'}\n"
          ]
        }
      ]
    },
    {
      "cell_type": "code",
      "source": [
        "response['output']"
      ],
      "metadata": {
        "colab": {
          "base_uri": "https://localhost:8080/",
          "height": 35
        },
        "id": "oU8Oi4DtEk4f",
        "outputId": "6d98cbdd-dc41-4adf-926e-0a052f4fd84f"
      },
      "execution_count": 35,
      "outputs": [
        {
          "output_type": "execute_result",
          "data": {
            "text/plain": [
              "'The capital of Karnataka is Bangalore, and its current weather condition is partly cloudy with a temperature of 22°C.'"
            ],
            "application/vnd.google.colaboratory.intrinsic+json": {
              "type": "string"
            }
          },
          "metadata": {},
          "execution_count": 35
        }
      ]
    },
    {
      "cell_type": "code",
      "source": [],
      "metadata": {
        "id": "O_110AUSEs0J"
      },
      "execution_count": 35,
      "outputs": []
    }
  ]
}