{
  "cells": [
    {
      "cell_type": "code",
      "execution_count": 1,
      "metadata": {
        "id": "fj0frDbOgrMF"
      },
      "outputs": [],
      "source": [
        "from google.colab import userdata\n",
        "import os\n",
        "\n",
        "os.environ[\"OPENAI_API_KEY\"] = userdata.get('OPENAI_API_KEY')\n",
        "EXCHANGE_RATE_API_KEY = userdata.get('EXCHANGE_RATE_API_KEY')"
      ]
    },
    {
      "cell_type": "code",
      "execution_count": 2,
      "metadata": {
        "colab": {
          "base_uri": "https://localhost:8080/"
        },
        "id": "bp5sD7NJheHe",
        "outputId": "fa4909ec-a27b-465e-c95c-7cbb939643c8"
      },
      "outputs": [
        {
          "name": "stdout",
          "output_type": "stream",
          "text": [
            "\u001b[?25l   \u001b[90m━━━━━━━━━━━━━━━━━━━━━━━━━━━━━━━━━━━━━━━━\u001b[0m \u001b[32m0.0/75.0 kB\u001b[0m \u001b[31m?\u001b[0m eta \u001b[36m-:--:--\u001b[0m\r\u001b[2K   \u001b[90m━━━━━━━━━━━━━━━━━━━━━━━━━━━━━━━━━━━━━━━━\u001b[0m \u001b[32m75.0/75.0 kB\u001b[0m \u001b[31m2.9 MB/s\u001b[0m eta \u001b[36m0:00:00\u001b[0m\n",
            "\u001b[?25h"
          ]
        }
      ],
      "source": [
        "!pip install -q langchain-openai langchain-core requests"
      ]
    },
    {
      "cell_type": "code",
      "execution_count": 3,
      "metadata": {
        "id": "z1QTxbQchnTB"
      },
      "outputs": [],
      "source": [
        "from langchain_openai import ChatOpenAI\n",
        "from langchain_core.tools import tool\n",
        "from langchain_core.messages import HumanMessage\n",
        "import requests"
      ]
    },
    {
      "cell_type": "markdown",
      "metadata": {
        "id": "84pdwRfHIfyE"
      },
      "source": [
        "#### Create Tools"
      ]
    },
    {
      "cell_type": "code",
      "execution_count": 4,
      "metadata": {
        "id": "d2bVC_jjQR55"
      },
      "outputs": [],
      "source": [
        "from langchain_core.tools import InjectedToolArg\n",
        "from typing import Annotated"
      ]
    },
    {
      "cell_type": "code",
      "execution_count": 5,
      "metadata": {
        "id": "KtfHDkoJIUce"
      },
      "outputs": [],
      "source": [
        "@tool\n",
        "def get_conversion_factor(base_currency: str, target_currency: str) -> float:\n",
        "  '''This function fetches the currency conversion factor between the given base currency and target currency'''\n",
        "  url = f'https://v6.exchangerate-api.com/v6/{EXCHANGE_RATE_API_KEY}/pair/{base_currency}/{target_currency}'\n",
        "  response = requests.get(url)\n",
        "  return response.json()\n",
        "\n",
        "@tool\n",
        "def convert(base_currency_value: int, conversion_factor: Annotated[float, InjectedToolArg]) -> float:\n",
        "  '''This function converts the base currency value to the target currency'''\n",
        "  return base_currency_value * conversion_factor"
      ]
    },
    {
      "cell_type": "code",
      "execution_count": 6,
      "metadata": {
        "colab": {
          "base_uri": "https://localhost:8080/"
        },
        "id": "zM0lEa-XNOoe",
        "outputId": "73fd0500-2e70-470a-d4af-ca35779e734f"
      },
      "outputs": [
        {
          "data": {
            "text/plain": [
              "{'result': 'success',\n",
              " 'documentation': 'https://www.exchangerate-api.com/docs',\n",
              " 'terms_of_use': 'https://www.exchangerate-api.com/terms',\n",
              " 'time_last_update_unix': 1759017601,\n",
              " 'time_last_update_utc': 'Sun, 28 Sep 2025 00:00:01 +0000',\n",
              " 'time_next_update_unix': 1759104001,\n",
              " 'time_next_update_utc': 'Mon, 29 Sep 2025 00:00:01 +0000',\n",
              " 'base_code': 'USD',\n",
              " 'target_code': 'INR',\n",
              " 'conversion_rate': 88.7384}"
            ]
          },
          "execution_count": 6,
          "metadata": {},
          "output_type": "execute_result"
        }
      ],
      "source": [
        "get_conversion_factor.invoke({'base_currency': 'USD', 'target_currency': 'INR'})"
      ]
    },
    {
      "cell_type": "code",
      "execution_count": 7,
      "metadata": {
        "colab": {
          "base_uri": "https://localhost:8080/"
        },
        "id": "TFfAc9xaNfkr",
        "outputId": "c3a693e7-87b3-497d-8ad8-3c57f097b20e"
      },
      "outputs": [
        {
          "data": {
            "text/plain": [
              "887.384"
            ]
          },
          "execution_count": 7,
          "metadata": {},
          "output_type": "execute_result"
        }
      ],
      "source": [
        "convert.invoke({'base_currency_value': 10, 'conversion_factor': 88.7384})"
      ]
    },
    {
      "cell_type": "code",
      "execution_count": 8,
      "metadata": {
        "id": "YlZOuariO2vP"
      },
      "outputs": [],
      "source": [
        "# tool binding\n",
        "llm = ChatOpenAI(model_name='gpt-4o-mini')\n",
        "llm_with_tools = llm.bind_tools([get_conversion_factor, convert])"
      ]
    },
    {
      "cell_type": "code",
      "execution_count": 9,
      "metadata": {
        "id": "tGAD3NOQPN0V"
      },
      "outputs": [],
      "source": [
        "messages = [HumanMessage('What is the conversion factor between USD and INR, Based on that can you convert 15 USD to INR')]"
      ]
    },
    {
      "cell_type": "code",
      "execution_count": 10,
      "metadata": {
        "colab": {
          "base_uri": "https://localhost:8080/"
        },
        "id": "eQT4cAVLPYu_",
        "outputId": "40989bed-d6d6-470f-cde1-1ded0549d2e6"
      },
      "outputs": [
        {
          "data": {
            "text/plain": [
              "[HumanMessage(content='What is the conversion factor between USD and INR, Based on that can you convert 15 USD to INR', additional_kwargs={}, response_metadata={})]"
            ]
          },
          "execution_count": 10,
          "metadata": {},
          "output_type": "execute_result"
        }
      ],
      "source": [
        "messages"
      ]
    },
    {
      "cell_type": "code",
      "execution_count": 11,
      "metadata": {
        "id": "UeKC3ShdPZcr"
      },
      "outputs": [],
      "source": [
        "ai_message = llm_with_tools.invoke(messages)"
      ]
    },
    {
      "cell_type": "code",
      "execution_count": 12,
      "metadata": {
        "id": "CbxwZ1PATLHa"
      },
      "outputs": [],
      "source": [
        "messages.append(ai_message)"
      ]
    },
    {
      "cell_type": "code",
      "execution_count": 13,
      "metadata": {
        "colab": {
          "base_uri": "https://localhost:8080/"
        },
        "id": "FdcVNa8APf49",
        "outputId": "42fe8b04-247f-48b8-a82c-509e8e41c64a"
      },
      "outputs": [
        {
          "data": {
            "text/plain": [
              "[{'name': 'get_conversion_factor',\n",
              "  'args': {'base_currency': 'USD', 'target_currency': 'INR'},\n",
              "  'id': 'call_K1UPq0htea4LIYYumNHQ2JW5',\n",
              "  'type': 'tool_call'},\n",
              " {'name': 'convert',\n",
              "  'args': {'base_currency_value': 15},\n",
              "  'id': 'call_qI40aGyalkTpAc9QkgKcJPy6',\n",
              "  'type': 'tool_call'}]"
            ]
          },
          "execution_count": 13,
          "metadata": {},
          "output_type": "execute_result"
        }
      ],
      "source": [
        "ai_message.tool_calls"
      ]
    },
    {
      "cell_type": "code",
      "execution_count": 14,
      "metadata": {
        "colab": {
          "base_uri": "https://localhost:8080/"
        },
        "id": "oaaXGYdqPgyL",
        "outputId": "4667d833-28cb-4e2e-f2e2-4c6addb74222"
      },
      "outputs": [
        {
          "name": "stdout",
          "output_type": "stream",
          "text": [
            "{'result': 'success', 'documentation': 'https://www.exchangerate-api.com/docs', 'terms_of_use': 'https://www.exchangerate-api.com/terms', 'time_last_update_unix': 1759017601, 'time_last_update_utc': 'Sun, 28 Sep 2025 00:00:01 +0000', 'time_next_update_unix': 1759104001, 'time_next_update_utc': 'Mon, 29 Sep 2025 00:00:01 +0000', 'base_code': 'USD', 'target_code': 'INR', 'conversion_rate': 88.7384}\n",
            "1331.076\n"
          ]
        }
      ],
      "source": [
        "import json\n",
        "from langchain_core.messages import ToolMessage\n",
        "\n",
        "for tool_call in ai_message.tool_calls:\n",
        "  # get the vakue if coversion rate\n",
        "  if tool_call['name'] == 'get_conversion_factor':\n",
        "    tool_message1 = get_conversion_factor.invoke(tool_call['args'])\n",
        "    print(tool_message1)\n",
        "    conversion_rate = tool_message1['conversion_rate']\n",
        "    messages.append(ToolMessage(content=json.dumps(tool_message1), tool_call_id=tool_call['id']))\n",
        "\n",
        "  if tool_call['name'] == 'convert':\n",
        "      tool_call['args']['conversion_factor'] = conversion_rate\n",
        "      tool_message2 = convert.invoke(tool_call['args'])\n",
        "      print(tool_message2)\n",
        "      messages.append(ToolMessage(content=str(tool_message2), tool_call_id=tool_call['id']))"
      ]
    },
    {
      "cell_type": "code",
      "execution_count": 15,
      "metadata": {
        "colab": {
          "base_uri": "https://localhost:8080/"
        },
        "id": "UR8fs4qMRZdv",
        "outputId": "3a73d1a1-54c5-485d-f0a4-075de7e4afee"
      },
      "outputs": [
        {
          "data": {
            "text/plain": [
              "[HumanMessage(content='What is the conversion factor between USD and INR, Based on that can you convert 15 USD to INR', additional_kwargs={}, response_metadata={}),\n",
              " AIMessage(content='', additional_kwargs={'tool_calls': [{'id': 'call_K1UPq0htea4LIYYumNHQ2JW5', 'function': {'arguments': '{\"base_currency\": \"USD\", \"target_currency\": \"INR\"}', 'name': 'get_conversion_factor'}, 'type': 'function'}, {'id': 'call_qI40aGyalkTpAc9QkgKcJPy6', 'function': {'arguments': '{\"base_currency_value\": 15}', 'name': 'convert'}, 'type': 'function'}], 'refusal': None}, response_metadata={'token_usage': {'completion_tokens': 53, 'prompt_tokens': 109, 'total_tokens': 162, 'completion_tokens_details': {'accepted_prediction_tokens': 0, 'audio_tokens': 0, 'reasoning_tokens': 0, 'rejected_prediction_tokens': 0}, 'prompt_tokens_details': {'audio_tokens': 0, 'cached_tokens': 0}}, 'model_name': 'gpt-4o-mini-2024-07-18', 'system_fingerprint': 'fp_560af6e559', 'id': 'chatcmpl-CKi1octao8IopNVDU0iGtgCcBvYgT', 'service_tier': 'default', 'finish_reason': 'tool_calls', 'logprobs': None}, id='run--acf1cbd0-6eed-426c-819c-ff7799c1b4e0-0', tool_calls=[{'name': 'get_conversion_factor', 'args': {'base_currency': 'USD', 'target_currency': 'INR'}, 'id': 'call_K1UPq0htea4LIYYumNHQ2JW5', 'type': 'tool_call'}, {'name': 'convert', 'args': {'base_currency_value': 15, 'conversion_factor': 88.7384}, 'id': 'call_qI40aGyalkTpAc9QkgKcJPy6', 'type': 'tool_call'}], usage_metadata={'input_tokens': 109, 'output_tokens': 53, 'total_tokens': 162, 'input_token_details': {'audio': 0, 'cache_read': 0}, 'output_token_details': {'audio': 0, 'reasoning': 0}}),\n",
              " ToolMessage(content='{\"result\": \"success\", \"documentation\": \"https://www.exchangerate-api.com/docs\", \"terms_of_use\": \"https://www.exchangerate-api.com/terms\", \"time_last_update_unix\": 1759017601, \"time_last_update_utc\": \"Sun, 28 Sep 2025 00:00:01 +0000\", \"time_next_update_unix\": 1759104001, \"time_next_update_utc\": \"Mon, 29 Sep 2025 00:00:01 +0000\", \"base_code\": \"USD\", \"target_code\": \"INR\", \"conversion_rate\": 88.7384}', tool_call_id='call_K1UPq0htea4LIYYumNHQ2JW5'),\n",
              " ToolMessage(content='1331.076', tool_call_id='call_qI40aGyalkTpAc9QkgKcJPy6')]"
            ]
          },
          "execution_count": 15,
          "metadata": {},
          "output_type": "execute_result"
        }
      ],
      "source": [
        "messages"
      ]
    },
    {
      "cell_type": "code",
      "execution_count": 16,
      "metadata": {
        "colab": {
          "base_uri": "https://localhost:8080/",
          "height": 35
        },
        "id": "Tz1PpzrGTTLe",
        "outputId": "ace5bda6-2524-4e60-aec9-4eb038d4a2ef"
      },
      "outputs": [
        {
          "data": {
            "application/vnd.google.colaboratory.intrinsic+json": {
              "type": "string"
            },
            "text/plain": [
              "'The conversion factor between USD and INR is approximately 88.7384. Therefore, converting 15 USD to INR results in approximately 1331.08 INR.'"
            ]
          },
          "execution_count": 16,
          "metadata": {},
          "output_type": "execute_result"
        }
      ],
      "source": [
        "llm_with_tools.invoke(messages).content"
      ]
    },
    {
      "cell_type": "code",
      "execution_count": 16,
      "metadata": {
        "id": "QlXs0gZ9T6QC"
      },
      "outputs": [],
      "source": []
    }
  ],
  "metadata": {
    "colab": {
      "provenance": []
    },
    "kernelspec": {
      "display_name": "Python 3",
      "name": "python3"
    },
    "language_info": {
      "name": "python"
    }
  },
  "nbformat": 4,
  "nbformat_minor": 0
}
