{
  "nbformat": 4,
  "nbformat_minor": 0,
  "metadata": {
    "colab": {
      "provenance": []
    },
    "kernelspec": {
      "name": "python3",
      "display_name": "Python 3"
    },
    "language_info": {
      "name": "python"
    }
  },
  "cells": [
    {
      "cell_type": "code",
      "execution_count": 63,
      "metadata": {
        "id": "fj0frDbOgrMF"
      },
      "outputs": [],
      "source": [
        "from google.colab import userdata\n",
        "import os\n",
        "\n",
        "os.environ[\"OPENAI_API_KEY\"] = userdata.get('OPENAI_API_KEY')"
      ]
    },
    {
      "cell_type": "code",
      "source": [
        "!pip install -q langchain-openai langchain-core requests"
      ],
      "metadata": {
        "id": "bp5sD7NJheHe"
      },
      "execution_count": 64,
      "outputs": []
    },
    {
      "cell_type": "code",
      "source": [
        "from langchain_openai import ChatOpenAI\n",
        "from langchain_core.tools import tool\n",
        "from langchain_core.messages import HumanMessage\n",
        "import requests"
      ],
      "metadata": {
        "id": "z1QTxbQchnTB"
      },
      "execution_count": 65,
      "outputs": []
    },
    {
      "cell_type": "code",
      "source": [
        "# tool create\n",
        "\n",
        "@tool\n",
        "def multiply(a: int, b: int) -> int:\n",
        "  '''Given 2 numbers a and b, this tool returns their product'''\n",
        "  return a*b"
      ],
      "metadata": {
        "id": "62St7UmIh1Vq"
      },
      "execution_count": 66,
      "outputs": []
    },
    {
      "cell_type": "code",
      "source": [
        "print(multiply.invoke({'a':2, 'b':8}))"
      ],
      "metadata": {
        "colab": {
          "base_uri": "https://localhost:8080/"
        },
        "id": "8CuIOA-kiIeD",
        "outputId": "9892a181-7a7f-4a61-c410-e8fac781192e"
      },
      "execution_count": 67,
      "outputs": [
        {
          "output_type": "stream",
          "name": "stdout",
          "text": [
            "16\n"
          ]
        }
      ]
    },
    {
      "cell_type": "code",
      "source": [
        "print(f'multiply name: {multiply.name}')\n",
        "print(f'multiply description: {multiply.description}')"
      ],
      "metadata": {
        "colab": {
          "base_uri": "https://localhost:8080/"
        },
        "id": "vKy5KFr5iMWZ",
        "outputId": "2970679a-1eaa-485a-aa40-58ae3f6ba924"
      },
      "execution_count": 68,
      "outputs": [
        {
          "output_type": "stream",
          "name": "stdout",
          "text": [
            "multiply name: multiply\n",
            "multiply description: Given 2 numbers a and b, this tool returns their product\n"
          ]
        }
      ]
    },
    {
      "cell_type": "code",
      "source": [
        "# tool binding\n",
        "llm = ChatOpenAI(model='gpt-4o-mini')\n",
        "llm_with_tools = llm.bind_tools([multiply])"
      ],
      "metadata": {
        "id": "TRSfzFe3iaFI"
      },
      "execution_count": 69,
      "outputs": []
    },
    {
      "cell_type": "markdown",
      "source": [
        "### Tool Calling\n",
        "\n",
        "It is the process where the LLM decides during a conversation or task, that it needs to use a specific tool and generates a structured output with:\n",
        "\n",
        "* the name of the tool\n",
        "* the arguments to call it with\n",
        "\n",
        "`Note`: The LLM does not actually run the tool, it just suggests the tool and the input arguments. The actual execution is handled by LangChain for you."
      ],
      "metadata": {
        "id": "Ea2yb1qyi18T"
      }
    },
    {
      "cell_type": "code",
      "source": [
        "llm_with_tools.invoke(\"Hi, how are you ?\")"
      ],
      "metadata": {
        "colab": {
          "base_uri": "https://localhost:8080/"
        },
        "id": "EWYHy6FNijjt",
        "outputId": "d827dfc3-9299-4435-9010-3ae60c1af9e4"
      },
      "execution_count": 70,
      "outputs": [
        {
          "output_type": "execute_result",
          "data": {
            "text/plain": [
              "AIMessage(content=\"I'm just a computer program, so I don't have feelings, but I'm here and ready to help you! How can I assist you today?\", additional_kwargs={'refusal': None}, response_metadata={'token_usage': {'completion_tokens': 29, 'prompt_tokens': 60, 'total_tokens': 89, 'completion_tokens_details': {'accepted_prediction_tokens': 0, 'audio_tokens': 0, 'reasoning_tokens': 0, 'rejected_prediction_tokens': 0}, 'prompt_tokens_details': {'audio_tokens': 0, 'cached_tokens': 0}}, 'model_name': 'gpt-4o-mini-2024-07-18', 'system_fingerprint': 'fp_560af6e559', 'id': 'chatcmpl-CKffIgC8GYcMdCqsSaSl8SDDboflP', 'service_tier': 'default', 'finish_reason': 'stop', 'logprobs': None}, id='run--785f5b37-5a40-4931-a813-f1ace8856ae6-0', usage_metadata={'input_tokens': 60, 'output_tokens': 29, 'total_tokens': 89, 'input_token_details': {'audio': 0, 'cache_read': 0}, 'output_token_details': {'audio': 0, 'reasoning': 0}})"
            ]
          },
          "metadata": {},
          "execution_count": 70
        }
      ]
    },
    {
      "cell_type": "code",
      "source": [
        "query = HumanMessage(\"Can you multiply 4567 * 34 ?\")"
      ],
      "metadata": {
        "id": "Fmhf9GMeFzze"
      },
      "execution_count": 71,
      "outputs": []
    },
    {
      "cell_type": "code",
      "source": [
        "messages = [query]"
      ],
      "metadata": {
        "id": "KEr05ICHF3ir"
      },
      "execution_count": 72,
      "outputs": []
    },
    {
      "cell_type": "code",
      "source": [
        "messages"
      ],
      "metadata": {
        "colab": {
          "base_uri": "https://localhost:8080/"
        },
        "id": "Ql4FL3aPF_09",
        "outputId": "e0179eeb-a79a-4249-ca39-1981b4a952ac"
      },
      "execution_count": 73,
      "outputs": [
        {
          "output_type": "execute_result",
          "data": {
            "text/plain": [
              "[HumanMessage(content='Can you multiply 4567 * 34 ?', additional_kwargs={}, response_metadata={})]"
            ]
          },
          "metadata": {},
          "execution_count": 73
        }
      ]
    },
    {
      "cell_type": "code",
      "source": [
        "result = llm_with_tools.invoke(messages)"
      ],
      "metadata": {
        "id": "N4OBBFmjjS34"
      },
      "execution_count": 74,
      "outputs": []
    },
    {
      "cell_type": "code",
      "source": [
        "result"
      ],
      "metadata": {
        "colab": {
          "base_uri": "https://localhost:8080/"
        },
        "id": "E_C99RfHGovX",
        "outputId": "5b71380f-e3ad-435f-8586-aacf977771b6"
      },
      "execution_count": 75,
      "outputs": [
        {
          "output_type": "execute_result",
          "data": {
            "text/plain": [
              "AIMessage(content='', additional_kwargs={'tool_calls': [{'id': 'call_0PkgNQeIqKZOHbeAqeX5wepk', 'function': {'arguments': '{\"a\":4567,\"b\":34}', 'name': 'multiply'}, 'type': 'function'}], 'refusal': None}, response_metadata={'token_usage': {'completion_tokens': 18, 'prompt_tokens': 64, 'total_tokens': 82, 'completion_tokens_details': {'accepted_prediction_tokens': 0, 'audio_tokens': 0, 'reasoning_tokens': 0, 'rejected_prediction_tokens': 0}, 'prompt_tokens_details': {'audio_tokens': 0, 'cached_tokens': 0}}, 'model_name': 'gpt-4o-mini-2024-07-18', 'system_fingerprint': 'fp_560af6e559', 'id': 'chatcmpl-CKffJujXjm5anQ7siwTpy9MiOcfNE', 'service_tier': 'default', 'finish_reason': 'tool_calls', 'logprobs': None}, id='run--40ae53b4-d4e4-4f71-8732-95d01f6c6de3-0', tool_calls=[{'name': 'multiply', 'args': {'a': 4567, 'b': 34}, 'id': 'call_0PkgNQeIqKZOHbeAqeX5wepk', 'type': 'tool_call'}], usage_metadata={'input_tokens': 64, 'output_tokens': 18, 'total_tokens': 82, 'input_token_details': {'audio': 0, 'cache_read': 0}, 'output_token_details': {'audio': 0, 'reasoning': 0}})"
            ]
          },
          "metadata": {},
          "execution_count": 75
        }
      ]
    },
    {
      "cell_type": "code",
      "source": [
        "messages.append(result)"
      ],
      "metadata": {
        "id": "FQTJrZktGJlh"
      },
      "execution_count": 76,
      "outputs": []
    },
    {
      "cell_type": "code",
      "source": [
        "messages"
      ],
      "metadata": {
        "colab": {
          "base_uri": "https://localhost:8080/"
        },
        "id": "t6HAd9P9GSUy",
        "outputId": "44b95de5-a6a1-481a-8e89-4307e2fb1ef6"
      },
      "execution_count": 77,
      "outputs": [
        {
          "output_type": "execute_result",
          "data": {
            "text/plain": [
              "[HumanMessage(content='Can you multiply 4567 * 34 ?', additional_kwargs={}, response_metadata={}),\n",
              " AIMessage(content='', additional_kwargs={'tool_calls': [{'id': 'call_0PkgNQeIqKZOHbeAqeX5wepk', 'function': {'arguments': '{\"a\":4567,\"b\":34}', 'name': 'multiply'}, 'type': 'function'}], 'refusal': None}, response_metadata={'token_usage': {'completion_tokens': 18, 'prompt_tokens': 64, 'total_tokens': 82, 'completion_tokens_details': {'accepted_prediction_tokens': 0, 'audio_tokens': 0, 'reasoning_tokens': 0, 'rejected_prediction_tokens': 0}, 'prompt_tokens_details': {'audio_tokens': 0, 'cached_tokens': 0}}, 'model_name': 'gpt-4o-mini-2024-07-18', 'system_fingerprint': 'fp_560af6e559', 'id': 'chatcmpl-CKffJujXjm5anQ7siwTpy9MiOcfNE', 'service_tier': 'default', 'finish_reason': 'tool_calls', 'logprobs': None}, id='run--40ae53b4-d4e4-4f71-8732-95d01f6c6de3-0', tool_calls=[{'name': 'multiply', 'args': {'a': 4567, 'b': 34}, 'id': 'call_0PkgNQeIqKZOHbeAqeX5wepk', 'type': 'tool_call'}], usage_metadata={'input_tokens': 64, 'output_tokens': 18, 'total_tokens': 82, 'input_token_details': {'audio': 0, 'cache_read': 0}, 'output_token_details': {'audio': 0, 'reasoning': 0}})]"
            ]
          },
          "metadata": {},
          "execution_count": 77
        }
      ]
    },
    {
      "cell_type": "markdown",
      "source": [
        "###Tool Cooling\n",
        "\n",
        "Tool Execution is the step where the actual Python function is run using the input arguments that the LLM suggested during tool calling.\n"
      ],
      "metadata": {
        "id": "8LWeoPiiEwFz"
      }
    },
    {
      "cell_type": "code",
      "source": [
        "tool_result = multiply.invoke(result.tool_calls[0])"
      ],
      "metadata": {
        "id": "wbc-yZPFjcIX"
      },
      "execution_count": 78,
      "outputs": []
    },
    {
      "cell_type": "code",
      "source": [
        "tool_result"
      ],
      "metadata": {
        "colab": {
          "base_uri": "https://localhost:8080/"
        },
        "id": "2iLNy1yOFl4O",
        "outputId": "2d5739da-83ad-43a3-e2d6-69288aaacfae"
      },
      "execution_count": 79,
      "outputs": [
        {
          "output_type": "execute_result",
          "data": {
            "text/plain": [
              "ToolMessage(content='155278', name='multiply', tool_call_id='call_0PkgNQeIqKZOHbeAqeX5wepk')"
            ]
          },
          "metadata": {},
          "execution_count": 79
        }
      ]
    },
    {
      "cell_type": "code",
      "source": [
        "messages.append(tool_result)"
      ],
      "metadata": {
        "id": "b57bhWWnGXH4"
      },
      "execution_count": 80,
      "outputs": []
    },
    {
      "cell_type": "code",
      "source": [
        "messages"
      ],
      "metadata": {
        "colab": {
          "base_uri": "https://localhost:8080/"
        },
        "id": "1KkE2FouGbfQ",
        "outputId": "983870c0-717c-41d7-89d4-af152a5f98d1"
      },
      "execution_count": 81,
      "outputs": [
        {
          "output_type": "execute_result",
          "data": {
            "text/plain": [
              "[HumanMessage(content='Can you multiply 4567 * 34 ?', additional_kwargs={}, response_metadata={}),\n",
              " AIMessage(content='', additional_kwargs={'tool_calls': [{'id': 'call_0PkgNQeIqKZOHbeAqeX5wepk', 'function': {'arguments': '{\"a\":4567,\"b\":34}', 'name': 'multiply'}, 'type': 'function'}], 'refusal': None}, response_metadata={'token_usage': {'completion_tokens': 18, 'prompt_tokens': 64, 'total_tokens': 82, 'completion_tokens_details': {'accepted_prediction_tokens': 0, 'audio_tokens': 0, 'reasoning_tokens': 0, 'rejected_prediction_tokens': 0}, 'prompt_tokens_details': {'audio_tokens': 0, 'cached_tokens': 0}}, 'model_name': 'gpt-4o-mini-2024-07-18', 'system_fingerprint': 'fp_560af6e559', 'id': 'chatcmpl-CKffJujXjm5anQ7siwTpy9MiOcfNE', 'service_tier': 'default', 'finish_reason': 'tool_calls', 'logprobs': None}, id='run--40ae53b4-d4e4-4f71-8732-95d01f6c6de3-0', tool_calls=[{'name': 'multiply', 'args': {'a': 4567, 'b': 34}, 'id': 'call_0PkgNQeIqKZOHbeAqeX5wepk', 'type': 'tool_call'}], usage_metadata={'input_tokens': 64, 'output_tokens': 18, 'total_tokens': 82, 'input_token_details': {'audio': 0, 'cache_read': 0}, 'output_token_details': {'audio': 0, 'reasoning': 0}}),\n",
              " ToolMessage(content='155278', name='multiply', tool_call_id='call_0PkgNQeIqKZOHbeAqeX5wepk')]"
            ]
          },
          "metadata": {},
          "execution_count": 81
        }
      ]
    },
    {
      "cell_type": "code",
      "source": [
        "llm_with_tools.invoke(messages).content"
      ],
      "metadata": {
        "colab": {
          "base_uri": "https://localhost:8080/",
          "height": 35
        },
        "id": "cjGhLInfGck3",
        "outputId": "1c01d4ba-5eb8-4bf1-bddc-692248460744"
      },
      "execution_count": 82,
      "outputs": [
        {
          "output_type": "execute_result",
          "data": {
            "text/plain": [
              "'The product of 4567 and 34 is 155,278.'"
            ],
            "application/vnd.google.colaboratory.intrinsic+json": {
              "type": "string"
            }
          },
          "metadata": {},
          "execution_count": 82
        }
      ]
    },
    {
      "cell_type": "code",
      "source": [],
      "metadata": {
        "id": "HShdWKFSHbSF"
      },
      "execution_count": 82,
      "outputs": []
    }
  ]
}